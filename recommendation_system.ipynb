{
  "cells": [
    {
      "cell_type": "markdown",
      "metadata": {
        "id": "FUaUCCJS4RT8"
      },
      "source": [
        "Recommendation system"
      ]
    },
    {
      "cell_type": "code",
      "execution_count": 1,
      "metadata": {
        "vscode": {
          "languageId": "plaintext"
        },
        "colab": {
          "base_uri": "https://localhost:8080/"
        },
        "id": "-y3VnxMb4RUC",
        "outputId": "dfb60e53-0bad-454a-fff7-b062a869d891"
      },
      "outputs": [
        {
          "output_type": "stream",
          "name": "stderr",
          "text": [
            "/usr/local/lib/python3.10/dist-packages/sentence_transformers/cross_encoder/CrossEncoder.py:13: TqdmExperimentalWarning: Using `tqdm.autonotebook.tqdm` in notebook mode. Use `tqdm.tqdm` instead to force console mode (e.g. in jupyter console)\n",
            "  from tqdm.autonotebook import tqdm, trange\n"
          ]
        }
      ],
      "source": [
        "from tensorflow.keras import layers\n",
        "from tensorflow import keras\n",
        "import tensorflow as tf\n",
        "from sklearn.model_selection import train_test_split\n",
        "\n",
        "\n",
        "from ast import literal_eval\n",
        "import pandas as pd\n",
        "import numpy as np\n",
        "\n",
        "import pickle\n",
        "import torch\n",
        "\n",
        "from sentence_transformers import SentenceTransformer,util"
      ]
    },
    {
      "cell_type": "code",
      "execution_count": 2,
      "metadata": {
        "vscode": {
          "languageId": "plaintext"
        },
        "id": "bX2lCYVe4RUG"
      },
      "outputs": [],
      "source": [
        "arxiv_data = pd.read_csv('/content/arxiv_data_210930-054931.csv', on_bad_lines='skip')"
      ]
    },
    {
      "cell_type": "code",
      "execution_count": 3,
      "metadata": {
        "vscode": {
          "languageId": "plaintext"
        },
        "colab": {
          "base_uri": "https://localhost:8080/",
          "height": 206
        },
        "id": "FeZ8OnAl4RUH",
        "outputId": "95de9ed1-40a5-4d85-e5c1-9e4ecbd663ee"
      },
      "outputs": [
        {
          "output_type": "execute_result",
          "data": {
            "text/plain": [
              "                           terms  \\\n",
              "0                      ['cs.LG']   \n",
              "1             ['cs.LG', 'cs.AI']   \n",
              "2  ['cs.LG', 'cs.CR', 'stat.ML']   \n",
              "3             ['cs.LG', 'cs.CR']   \n",
              "4                      ['cs.LG']   \n",
              "\n",
              "                                              titles  \\\n",
              "0  Multi-Level Attention Pooling for Graph Neural...   \n",
              "1  Decision Forests vs. Deep Networks: Conceptual...   \n",
              "2  Power up! Robust Graph Convolutional Network v...   \n",
              "3  Releasing Graph Neural Networks with Different...   \n",
              "4  Recurrence-Aware Long-Term Cognitive Network f...   \n",
              "\n",
              "                                           abstracts  \n",
              "0  Graph neural networks (GNNs) have been widely ...  \n",
              "1  Deep networks and decision forests (such as ra...  \n",
              "2  Graph convolutional networks (GCNs) are powerf...  \n",
              "3  With the increasing popularity of Graph Neural...  \n",
              "4  Machine learning solutions for pattern classif...  "
            ],
            "text/html": [
              "\n",
              "  <div id=\"df-219f8f94-3a5b-436c-98d1-5ca1448e70f5\" class=\"colab-df-container\">\n",
              "    <div>\n",
              "<style scoped>\n",
              "    .dataframe tbody tr th:only-of-type {\n",
              "        vertical-align: middle;\n",
              "    }\n",
              "\n",
              "    .dataframe tbody tr th {\n",
              "        vertical-align: top;\n",
              "    }\n",
              "\n",
              "    .dataframe thead th {\n",
              "        text-align: right;\n",
              "    }\n",
              "</style>\n",
              "<table border=\"1\" class=\"dataframe\">\n",
              "  <thead>\n",
              "    <tr style=\"text-align: right;\">\n",
              "      <th></th>\n",
              "      <th>terms</th>\n",
              "      <th>titles</th>\n",
              "      <th>abstracts</th>\n",
              "    </tr>\n",
              "  </thead>\n",
              "  <tbody>\n",
              "    <tr>\n",
              "      <th>0</th>\n",
              "      <td>['cs.LG']</td>\n",
              "      <td>Multi-Level Attention Pooling for Graph Neural...</td>\n",
              "      <td>Graph neural networks (GNNs) have been widely ...</td>\n",
              "    </tr>\n",
              "    <tr>\n",
              "      <th>1</th>\n",
              "      <td>['cs.LG', 'cs.AI']</td>\n",
              "      <td>Decision Forests vs. Deep Networks: Conceptual...</td>\n",
              "      <td>Deep networks and decision forests (such as ra...</td>\n",
              "    </tr>\n",
              "    <tr>\n",
              "      <th>2</th>\n",
              "      <td>['cs.LG', 'cs.CR', 'stat.ML']</td>\n",
              "      <td>Power up! Robust Graph Convolutional Network v...</td>\n",
              "      <td>Graph convolutional networks (GCNs) are powerf...</td>\n",
              "    </tr>\n",
              "    <tr>\n",
              "      <th>3</th>\n",
              "      <td>['cs.LG', 'cs.CR']</td>\n",
              "      <td>Releasing Graph Neural Networks with Different...</td>\n",
              "      <td>With the increasing popularity of Graph Neural...</td>\n",
              "    </tr>\n",
              "    <tr>\n",
              "      <th>4</th>\n",
              "      <td>['cs.LG']</td>\n",
              "      <td>Recurrence-Aware Long-Term Cognitive Network f...</td>\n",
              "      <td>Machine learning solutions for pattern classif...</td>\n",
              "    </tr>\n",
              "  </tbody>\n",
              "</table>\n",
              "</div>\n",
              "    <div class=\"colab-df-buttons\">\n",
              "\n",
              "  <div class=\"colab-df-container\">\n",
              "    <button class=\"colab-df-convert\" onclick=\"convertToInteractive('df-219f8f94-3a5b-436c-98d1-5ca1448e70f5')\"\n",
              "            title=\"Convert this dataframe to an interactive table.\"\n",
              "            style=\"display:none;\">\n",
              "\n",
              "  <svg xmlns=\"http://www.w3.org/2000/svg\" height=\"24px\" viewBox=\"0 -960 960 960\">\n",
              "    <path d=\"M120-120v-720h720v720H120Zm60-500h600v-160H180v160Zm220 220h160v-160H400v160Zm0 220h160v-160H400v160ZM180-400h160v-160H180v160Zm440 0h160v-160H620v160ZM180-180h160v-160H180v160Zm440 0h160v-160H620v160Z\"/>\n",
              "  </svg>\n",
              "    </button>\n",
              "\n",
              "  <style>\n",
              "    .colab-df-container {\n",
              "      display:flex;\n",
              "      gap: 12px;\n",
              "    }\n",
              "\n",
              "    .colab-df-convert {\n",
              "      background-color: #E8F0FE;\n",
              "      border: none;\n",
              "      border-radius: 50%;\n",
              "      cursor: pointer;\n",
              "      display: none;\n",
              "      fill: #1967D2;\n",
              "      height: 32px;\n",
              "      padding: 0 0 0 0;\n",
              "      width: 32px;\n",
              "    }\n",
              "\n",
              "    .colab-df-convert:hover {\n",
              "      background-color: #E2EBFA;\n",
              "      box-shadow: 0px 1px 2px rgba(60, 64, 67, 0.3), 0px 1px 3px 1px rgba(60, 64, 67, 0.15);\n",
              "      fill: #174EA6;\n",
              "    }\n",
              "\n",
              "    .colab-df-buttons div {\n",
              "      margin-bottom: 4px;\n",
              "    }\n",
              "\n",
              "    [theme=dark] .colab-df-convert {\n",
              "      background-color: #3B4455;\n",
              "      fill: #D2E3FC;\n",
              "    }\n",
              "\n",
              "    [theme=dark] .colab-df-convert:hover {\n",
              "      background-color: #434B5C;\n",
              "      box-shadow: 0px 1px 3px 1px rgba(0, 0, 0, 0.15);\n",
              "      filter: drop-shadow(0px 1px 2px rgba(0, 0, 0, 0.3));\n",
              "      fill: #FFFFFF;\n",
              "    }\n",
              "  </style>\n",
              "\n",
              "    <script>\n",
              "      const buttonEl =\n",
              "        document.querySelector('#df-219f8f94-3a5b-436c-98d1-5ca1448e70f5 button.colab-df-convert');\n",
              "      buttonEl.style.display =\n",
              "        google.colab.kernel.accessAllowed ? 'block' : 'none';\n",
              "\n",
              "      async function convertToInteractive(key) {\n",
              "        const element = document.querySelector('#df-219f8f94-3a5b-436c-98d1-5ca1448e70f5');\n",
              "        const dataTable =\n",
              "          await google.colab.kernel.invokeFunction('convertToInteractive',\n",
              "                                                    [key], {});\n",
              "        if (!dataTable) return;\n",
              "\n",
              "        const docLinkHtml = 'Like what you see? Visit the ' +\n",
              "          '<a target=\"_blank\" href=https://colab.research.google.com/notebooks/data_table.ipynb>data table notebook</a>'\n",
              "          + ' to learn more about interactive tables.';\n",
              "        element.innerHTML = '';\n",
              "        dataTable['output_type'] = 'display_data';\n",
              "        await google.colab.output.renderOutput(dataTable, element);\n",
              "        const docLink = document.createElement('div');\n",
              "        docLink.innerHTML = docLinkHtml;\n",
              "        element.appendChild(docLink);\n",
              "      }\n",
              "    </script>\n",
              "  </div>\n",
              "\n",
              "\n",
              "<div id=\"df-0896fee1-c056-45a5-a7fb-c18a0d9feb8c\">\n",
              "  <button class=\"colab-df-quickchart\" onclick=\"quickchart('df-0896fee1-c056-45a5-a7fb-c18a0d9feb8c')\"\n",
              "            title=\"Suggest charts\"\n",
              "            style=\"display:none;\">\n",
              "\n",
              "<svg xmlns=\"http://www.w3.org/2000/svg\" height=\"24px\"viewBox=\"0 0 24 24\"\n",
              "     width=\"24px\">\n",
              "    <g>\n",
              "        <path d=\"M19 3H5c-1.1 0-2 .9-2 2v14c0 1.1.9 2 2 2h14c1.1 0 2-.9 2-2V5c0-1.1-.9-2-2-2zM9 17H7v-7h2v7zm4 0h-2V7h2v10zm4 0h-2v-4h2v4z\"/>\n",
              "    </g>\n",
              "</svg>\n",
              "  </button>\n",
              "\n",
              "<style>\n",
              "  .colab-df-quickchart {\n",
              "      --bg-color: #E8F0FE;\n",
              "      --fill-color: #1967D2;\n",
              "      --hover-bg-color: #E2EBFA;\n",
              "      --hover-fill-color: #174EA6;\n",
              "      --disabled-fill-color: #AAA;\n",
              "      --disabled-bg-color: #DDD;\n",
              "  }\n",
              "\n",
              "  [theme=dark] .colab-df-quickchart {\n",
              "      --bg-color: #3B4455;\n",
              "      --fill-color: #D2E3FC;\n",
              "      --hover-bg-color: #434B5C;\n",
              "      --hover-fill-color: #FFFFFF;\n",
              "      --disabled-bg-color: #3B4455;\n",
              "      --disabled-fill-color: #666;\n",
              "  }\n",
              "\n",
              "  .colab-df-quickchart {\n",
              "    background-color: var(--bg-color);\n",
              "    border: none;\n",
              "    border-radius: 50%;\n",
              "    cursor: pointer;\n",
              "    display: none;\n",
              "    fill: var(--fill-color);\n",
              "    height: 32px;\n",
              "    padding: 0;\n",
              "    width: 32px;\n",
              "  }\n",
              "\n",
              "  .colab-df-quickchart:hover {\n",
              "    background-color: var(--hover-bg-color);\n",
              "    box-shadow: 0 1px 2px rgba(60, 64, 67, 0.3), 0 1px 3px 1px rgba(60, 64, 67, 0.15);\n",
              "    fill: var(--button-hover-fill-color);\n",
              "  }\n",
              "\n",
              "  .colab-df-quickchart-complete:disabled,\n",
              "  .colab-df-quickchart-complete:disabled:hover {\n",
              "    background-color: var(--disabled-bg-color);\n",
              "    fill: var(--disabled-fill-color);\n",
              "    box-shadow: none;\n",
              "  }\n",
              "\n",
              "  .colab-df-spinner {\n",
              "    border: 2px solid var(--fill-color);\n",
              "    border-color: transparent;\n",
              "    border-bottom-color: var(--fill-color);\n",
              "    animation:\n",
              "      spin 1s steps(1) infinite;\n",
              "  }\n",
              "\n",
              "  @keyframes spin {\n",
              "    0% {\n",
              "      border-color: transparent;\n",
              "      border-bottom-color: var(--fill-color);\n",
              "      border-left-color: var(--fill-color);\n",
              "    }\n",
              "    20% {\n",
              "      border-color: transparent;\n",
              "      border-left-color: var(--fill-color);\n",
              "      border-top-color: var(--fill-color);\n",
              "    }\n",
              "    30% {\n",
              "      border-color: transparent;\n",
              "      border-left-color: var(--fill-color);\n",
              "      border-top-color: var(--fill-color);\n",
              "      border-right-color: var(--fill-color);\n",
              "    }\n",
              "    40% {\n",
              "      border-color: transparent;\n",
              "      border-right-color: var(--fill-color);\n",
              "      border-top-color: var(--fill-color);\n",
              "    }\n",
              "    60% {\n",
              "      border-color: transparent;\n",
              "      border-right-color: var(--fill-color);\n",
              "    }\n",
              "    80% {\n",
              "      border-color: transparent;\n",
              "      border-right-color: var(--fill-color);\n",
              "      border-bottom-color: var(--fill-color);\n",
              "    }\n",
              "    90% {\n",
              "      border-color: transparent;\n",
              "      border-bottom-color: var(--fill-color);\n",
              "    }\n",
              "  }\n",
              "</style>\n",
              "\n",
              "  <script>\n",
              "    async function quickchart(key) {\n",
              "      const quickchartButtonEl =\n",
              "        document.querySelector('#' + key + ' button');\n",
              "      quickchartButtonEl.disabled = true;  // To prevent multiple clicks.\n",
              "      quickchartButtonEl.classList.add('colab-df-spinner');\n",
              "      try {\n",
              "        const charts = await google.colab.kernel.invokeFunction(\n",
              "            'suggestCharts', [key], {});\n",
              "      } catch (error) {\n",
              "        console.error('Error during call to suggestCharts:', error);\n",
              "      }\n",
              "      quickchartButtonEl.classList.remove('colab-df-spinner');\n",
              "      quickchartButtonEl.classList.add('colab-df-quickchart-complete');\n",
              "    }\n",
              "    (() => {\n",
              "      let quickchartButtonEl =\n",
              "        document.querySelector('#df-0896fee1-c056-45a5-a7fb-c18a0d9feb8c button');\n",
              "      quickchartButtonEl.style.display =\n",
              "        google.colab.kernel.accessAllowed ? 'block' : 'none';\n",
              "    })();\n",
              "  </script>\n",
              "</div>\n",
              "\n",
              "    </div>\n",
              "  </div>\n"
            ],
            "application/vnd.google.colaboratory.intrinsic+json": {
              "type": "dataframe",
              "variable_name": "arxiv_data",
              "summary": "{\n  \"name\": \"arxiv_data\",\n  \"rows\": 41026,\n  \"fields\": [\n    {\n      \"column\": \"terms\",\n      \"properties\": {\n        \"dtype\": \"category\",\n        \"num_unique_values\": 2774,\n        \"samples\": [\n          \"['cs.CV', 'cs.LG', 'stat.ML', '37M10, 46E22, 68U10, 65D19, 62H30, 68T10', 'G.3; I.2.10; I.4; I.5.4']\",\n          \"['stat.ML', 'cs.LG', 'eess.SP', 'math.RT']\",\n          \"['stat.ML', 'cs.LG', 'physics.data-an', 'stat.ME']\"\n        ],\n        \"semantic_type\": \"\",\n        \"description\": \"\"\n      }\n    },\n    {\n      \"column\": \"titles\",\n      \"properties\": {\n        \"dtype\": \"string\",\n        \"num_unique_values\": 32934,\n        \"samples\": [\n          \"Uncertainty in Neural Relational Inference Trajectory Reconstruction\",\n          \"The Boombox: Visual Reconstruction from Acoustic Vibrations\",\n          \"Attentive Representation Learning with Adversarial Training for Short Text Clustering\"\n        ],\n        \"semantic_type\": \"\",\n        \"description\": \"\"\n      }\n    },\n    {\n      \"column\": \"abstracts\",\n      \"properties\": {\n        \"dtype\": \"string\",\n        \"num_unique_values\": 32939,\n        \"samples\": [\n          \"One of the questions that arises when designing models that learn to solve\\nmultiple tasks simultaneously is how much of the available training budget\\nshould be devoted to each individual task. We refer to any formalized approach\\nto addressing this problem (learned or otherwise) as a task selection policy.\\nIn this work we provide an empirical evaluation of the performance of some\\ncommon task selection policies in a synthetic bandit-style setting, as well as\\non the GLUE benchmark for natural language understanding. We connect task\\nselection policy learning to existing work on automated curriculum learning and\\noff-policy evaluation, and suggest a method based on counterfactual estimation\\nthat leads to improved model performance in our experimental settings.\",\n          \"In recent years, the problem of addressing fairness in Machine Learning (ML)\\nand automatic decision-making has attracted a lot of attention in the\\nscientific communities dealing with Artificial Intelligence. A plethora of\\ndifferent definitions of fairness in ML have been proposed, that consider\\ndifferent notions of what is a \\\"fair decision\\\" in situations impacting\\nindividuals in the population. The precise differences, implications and\\n\\\"orthogonality\\\" between these notions have not yet been fully analyzed in the\\nliterature. In this work, we try to make some order out of this zoo of\\ndefinitions.\",\n          \"We address the problem of learning accurate 3D shape and camera pose from a\\ncollection of unlabeled category-specific images. We train a convolutional\\nnetwork to predict both the shape and the pose from a single image by\\nminimizing the reprojection error: given several views of an object, the\\nprojections of the predicted shapes to the predicted camera poses should match\\nthe provided views. To deal with pose ambiguity, we introduce an ensemble of\\npose predictors which we then distill to a single \\\"student\\\" model. To allow for\\nefficient learning of high-fidelity shapes, we represent the shapes by point\\nclouds and devise a formulation allowing for differentiable projection of\\nthese. Our experiments show that the distilled ensemble of pose predictors\\nlearns to estimate the pose accurately, while the point cloud representation\\nallows to predict detailed shape models. The supplementary video can be found\\nat https://www.youtube.com/watch?v=LuIGovKeo60\"\n        ],\n        \"semantic_type\": \"\",\n        \"description\": \"\"\n      }\n    }\n  ]\n}"
            }
          },
          "metadata": {},
          "execution_count": 3
        }
      ],
      "source": [
        "arxiv_data.head()"
      ]
    },
    {
      "cell_type": "code",
      "execution_count": 4,
      "metadata": {
        "vscode": {
          "languageId": "plaintext"
        },
        "colab": {
          "base_uri": "https://localhost:8080/"
        },
        "id": "YzDNViZK4RUI",
        "outputId": "c632d5d0-0856-4033-c3d4-fd9d1a2bf576"
      },
      "outputs": [
        {
          "output_type": "execute_result",
          "data": {
            "text/plain": [
              "(41026, 3)"
            ]
          },
          "metadata": {},
          "execution_count": 4
        }
      ],
      "source": [
        "arxiv_data.shape"
      ]
    },
    {
      "cell_type": "code",
      "execution_count": 5,
      "metadata": {
        "vscode": {
          "languageId": "plaintext"
        },
        "id": "5J4l3oNG4RUJ"
      },
      "outputs": [],
      "source": [
        "arxiv_data.drop(columns=['terms', 'abstracts'], axis=1, inplace = True)"
      ]
    },
    {
      "cell_type": "markdown",
      "metadata": {
        "id": "jfhiiIKg4RUL"
      },
      "source": [
        "Sentence Transformer"
      ]
    },
    {
      "cell_type": "code",
      "execution_count": 6,
      "metadata": {
        "vscode": {
          "languageId": "plaintext"
        },
        "colab": {
          "base_uri": "https://localhost:8080/"
        },
        "id": "czik_E0r4RUM",
        "outputId": "90e67aff-c2c7-4da6-e7a0-187d47a567ec"
      },
      "outputs": [
        {
          "output_type": "stream",
          "name": "stderr",
          "text": [
            "/usr/local/lib/python3.10/dist-packages/huggingface_hub/utils/_token.py:89: UserWarning: \n",
            "The secret `HF_TOKEN` does not exist in your Colab secrets.\n",
            "To authenticate with the Hugging Face Hub, create a token in your settings tab (https://huggingface.co/settings/tokens), set it as secret in your Google Colab and restart your session.\n",
            "You will be able to reuse this secret in all of your notebooks.\n",
            "Please note that authentication is recommended but still optional to access public models or datasets.\n",
            "  warnings.warn(\n",
            "/usr/local/lib/python3.10/dist-packages/transformers/tokenization_utils_base.py:1601: FutureWarning: `clean_up_tokenization_spaces` was not set. It will be set to `True` by default. This behavior will be depracted in transformers v4.45, and will be then set to `False` by default. For more details check this issue: https://github.com/huggingface/transformers/issues/31884\n",
            "  warnings.warn(\n"
          ]
        }
      ],
      "source": [
        "model = SentenceTransformer('all-MiniLM-L6-v2')"
      ]
    },
    {
      "cell_type": "code",
      "execution_count": 7,
      "metadata": {
        "vscode": {
          "languageId": "plaintext"
        },
        "id": "1UfNSvKG4RUO"
      },
      "outputs": [],
      "source": [
        "sentences = arxiv_data['titles']"
      ]
    },
    {
      "cell_type": "code",
      "execution_count": 8,
      "metadata": {
        "vscode": {
          "languageId": "plaintext"
        },
        "id": "voREhWvN4RUR"
      },
      "outputs": [],
      "source": [
        "embeddings = model.encode(sentences)"
      ]
    },
    {
      "cell_type": "code",
      "execution_count": 9,
      "metadata": {
        "vscode": {
          "languageId": "plaintext"
        },
        "colab": {
          "base_uri": "https://localhost:8080/"
        },
        "id": "slMTg-vb4RUT",
        "outputId": "5a783b74-9d58-495e-f2e1-f08de9b5c1de"
      },
      "outputs": [
        {
          "output_type": "execute_result",
          "data": {
            "text/plain": [
              "array([[ 0.06643405, -0.04954598,  0.06388085, ...,  0.00106302,\n",
              "        -0.12156379, -0.06962775],\n",
              "       [ 0.09212255, -0.07606938,  0.06572867, ..., -0.08565167,\n",
              "        -0.09266547,  0.00725293],\n",
              "       [-0.08162681,  0.02428931,  0.01888746, ...,  0.0080616 ,\n",
              "        -0.0512953 , -0.05873995],\n",
              "       ...,\n",
              "       [ 0.00547755,  0.0694479 ,  0.09368725, ..., -0.08764996,\n",
              "         0.02108502, -0.05680082],\n",
              "       [-0.08659958,  0.02304513,  0.110962  , ..., -0.07064024,\n",
              "        -0.00736168,  0.00995756],\n",
              "       [-0.03520672, -0.08613261,  0.06290741, ...,  0.01816004,\n",
              "        -0.05791019, -0.08266117]], dtype=float32)"
            ]
          },
          "metadata": {},
          "execution_count": 9
        }
      ],
      "source": [
        "embeddings"
      ]
    },
    {
      "cell_type": "code",
      "execution_count": 10,
      "metadata": {
        "vscode": {
          "languageId": "plaintext"
        },
        "colab": {
          "base_uri": "https://localhost:8080/"
        },
        "id": "XCj8VIsl4RUU",
        "outputId": "264ea576-bceb-45ef-fa8b-3504b35674a3"
      },
      "outputs": [
        {
          "output_type": "execute_result",
          "data": {
            "text/plain": [
              "(41026, 384)"
            ]
          },
          "metadata": {},
          "execution_count": 10
        }
      ],
      "source": [
        "embeddings.shape"
      ]
    },
    {
      "cell_type": "markdown",
      "metadata": {
        "id": "px2RDEH64RUV"
      },
      "source": [
        "Test"
      ]
    },
    {
      "cell_type": "code",
      "execution_count": 11,
      "metadata": {
        "vscode": {
          "languageId": "plaintext"
        },
        "colab": {
          "base_uri": "https://localhost:8080/"
        },
        "id": "jnHL2wou4RUW",
        "outputId": "3f23fc24-06a5-45d4-a0f1-814bdc69fd25"
      },
      "outputs": [
        {
          "output_type": "stream",
          "name": "stdout",
          "text": [
            "Sentence: Multi-Level Attention Pooling for Graph Neural Networks: Unifying Graph Representations with Multiple Localities\n",
            "Embedding: 384\n",
            "\n",
            "Sentence: Decision Forests vs. Deep Networks: Conceptual Similarities and Empirical Differences at Small Sample Sizes\n",
            "Embedding: 384\n",
            "\n",
            "Sentence: Power up! Robust Graph Convolutional Network via Graph Powering\n",
            "Embedding: 384\n",
            "\n",
            "Sentence: Releasing Graph Neural Networks with Differential Privacy Guarantees\n",
            "Embedding: 384\n",
            "\n",
            "Sentence: Recurrence-Aware Long-Term Cognitive Network for Explainable Pattern Classification\n",
            "Embedding: 384\n",
            "\n",
            "Sentence: Lifelong Graph Learning\n",
            "Embedding: 384\n",
            "\n",
            "Sentence: Bayesian graph convolutional neural networks via tempered MCMC\n",
            "Embedding: 384\n",
            "\n",
            "Sentence: Understanding and Resolving Performance Degradation in Graph Convolutional Networks\n",
            "Embedding: 384\n",
            "\n",
            "Sentence: Edge-augmented Graph Transformers: Global Self-attention is Enough for Graphs\n",
            "Embedding: 384\n",
            "\n",
            "Sentence: Variational Graph Normalized Auto-Encoders\n",
            "Embedding: 384\n",
            "\n"
          ]
        }
      ],
      "source": [
        "c = 0\n",
        "\n",
        "for sentence, embedding in zip(sentences, embeddings):\n",
        "  print(\"Sentence:\", sentence)\n",
        "  print(\"Embedding:\", len(embedding))\n",
        "  print(\"\")\n",
        "  c += 1\n",
        "  if c == 10:\n",
        "    break"
      ]
    },
    {
      "cell_type": "code",
      "execution_count": 12,
      "metadata": {
        "vscode": {
          "languageId": "plaintext"
        },
        "id": "49SwbOCG4RUW"
      },
      "outputs": [],
      "source": [
        "with open('embeddings.pkl', 'wb') as f:\n",
        "  pickle.dump(embeddings, f)\n",
        "\n",
        "with open('sentences.pkl', 'wb') as f:\n",
        "  pickle.dump(sentences, f)\n",
        "\n",
        "with open('rec_model.pkl', 'wb') as f:\n",
        "  pickle.dump(model, f)"
      ]
    },
    {
      "cell_type": "code",
      "execution_count": 13,
      "metadata": {
        "vscode": {
          "languageId": "plaintext"
        },
        "id": "NSEAmD-T4RUX"
      },
      "outputs": [],
      "source": [
        "embeddings = pickle.load(open('embeddings.pkl', 'rb'))\n",
        "sentences = pickle.load(open('sentences.pkl', 'rb'))\n",
        "recc_model = pickle.load(open('rec_model.pkl', 'rb'))"
      ]
    },
    {
      "cell_type": "code",
      "execution_count": 14,
      "metadata": {
        "vscode": {
          "languageId": "plaintext"
        },
        "colab": {
          "base_uri": "https://localhost:8080/"
        },
        "id": "ioCWNzMX4RUX",
        "outputId": "b35dbabe-30ae-4f9a-b37f-129a85e0cee5"
      },
      "outputs": [
        {
          "output_type": "execute_result",
          "data": {
            "text/plain": [
              "tensor([[0.1495]])"
            ]
          },
          "metadata": {},
          "execution_count": 14
        }
      ],
      "source": [
        "a = \"Attention is all you need\"\n",
        "myemb = recc_model.encode(a)\n",
        "util.cos_sim(embedding, myemb)"
      ]
    },
    {
      "cell_type": "code",
      "execution_count": 15,
      "metadata": {
        "vscode": {
          "languageId": "plaintext"
        },
        "id": "RE0Sep2h4RUX"
      },
      "outputs": [],
      "source": [
        "def recommendation(input_paper, threshold=0.9):\n",
        "    cosine_scores = util.cos_sim(embeddings, recc_model.encode(input_paper))\n",
        "\n",
        "    top_similar_papers = torch.topk(cosine_scores, dim=0, k=20, sorted=True)\n",
        "\n",
        "    papers_list = []\n",
        "    seen_titles = set()\n",
        "\n",
        "    for i in top_similar_papers.indices:\n",
        "        title = sentences[i.item()]\n",
        "        if title not in seen_titles:\n",
        "            papers_list.append(title)\n",
        "            seen_titles.add(title)\n",
        "\n",
        "        if len(papers_list) == 10:\n",
        "            break\n",
        "\n",
        "    return papers_list"
      ]
    },
    {
      "cell_type": "code",
      "execution_count": 16,
      "metadata": {
        "vscode": {
          "languageId": "plaintext"
        },
        "colab": {
          "base_uri": "https://localhost:8080/"
        },
        "id": "o50HqyNM4RUX",
        "outputId": "72b5e438-3355-4b9b-b03b-e31383d43c42"
      },
      "outputs": [
        {
          "name": "stdout",
          "output_type": "stream",
          "text": [
            "enter paper titleAttention is all you need\n"
          ]
        },
        {
          "output_type": "execute_result",
          "data": {
            "text/plain": [
              "['Attention that does not Explain Away',\n",
              " 'Area Attention',\n",
              " 'Pay Attention when Required',\n",
              " 'Long Short-Term Attention',\n",
              " 'Attention as Activation',\n",
              " 'Invertible Attention',\n",
              " 'Attention is Not All You Need: Pure Attention Loses Rank Doubly Exponentially with Depth',\n",
              " 'Bottom-up Attention, Models of',\n",
              " 'Visual Attention: Deep Rare Features',\n",
              " 'On the Regularity of Attention']"
            ]
          },
          "metadata": {},
          "execution_count": 16
        }
      ],
      "source": [
        "# usage = Attention is all you need\n",
        "input_paper = input(\"enter paper title\")\n",
        "recommended_papers = recommendation(input_paper)\n",
        "\n",
        "recommended_papers"
      ]
    },
    {
      "cell_type": "code",
      "execution_count": 17,
      "metadata": {
        "vscode": {
          "languageId": "plaintext"
        },
        "colab": {
          "base_uri": "https://localhost:8080/"
        },
        "id": "wbnFZpmX4RUZ",
        "outputId": "cec0c80b-6b80-4c55-cb05-8fe2ea5a0e1d"
      },
      "outputs": [
        {
          "name": "stdout",
          "output_type": "stream",
          "text": [
            "enter paper title - Review of deep learning: concepts, CNN architectures, challenges, applications, future directions\n"
          ]
        },
        {
          "output_type": "execute_result",
          "data": {
            "text/plain": [
              "['A Review of Deep Learning with Special Emphasis on Architectures, Applications and Recent Trends',\n",
              " 'Review of Deep Learning',\n",
              " 'Deep Convolutional Neural Networks: A survey of the foundations, selected improvements, and some current applications',\n",
              " 'A Survey of the Recent Architectures of Deep Convolutional Neural Networks',\n",
              " 'A Survey of Convolutional Neural Networks: Analysis, Applications, and Prospects',\n",
              " 'Deep Learning for Medical Image Processing: Overview, Challenges and Future',\n",
              " 'A Survey on Understanding, Visualizations, and Explanation of Deep Neural Networks',\n",
              " 'Training Deep Architectures Without End-to-End Backpropagation: A Brief Survey',\n",
              " 'A Non-Technical Survey on Deep Convolutional Neural Network Architectures',\n",
              " 'Object Detection with Deep Learning: A Review']"
            ]
          },
          "metadata": {},
          "execution_count": 17
        }
      ],
      "source": [
        "# usage = (Review of deep learning: concepts, CNN architectures, challenges, applications, future directions)\n",
        "input_paper = input(\"enter paper title - \")\n",
        "recommended_papers = recommendation(input_paper)\n",
        "\n",
        "recommended_papers"
      ]
    }
  ],
  "metadata": {
    "language_info": {
      "name": "python"
    },
    "colab": {
      "provenance": []
    },
    "kernelspec": {
      "name": "python3",
      "display_name": "Python 3"
    }
  },
  "nbformat": 4,
  "nbformat_minor": 0
}